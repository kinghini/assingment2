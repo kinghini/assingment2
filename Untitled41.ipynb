{
 "cells": [
  {
   "cell_type": "code",
   "execution_count": 1,
   "id": "5206099b",
   "metadata": {},
   "outputs": [],
   "source": [
    "import logging\n",
    "logging.basicConfig(filename = \"test10.log\" , level = logging.DEBUG , format ='%(asctime)s %(levelname)s %(message)s' )"
   ]
  },
  {
   "cell_type": "code",
   "execution_count": 3,
   "id": "c02019d9",
   "metadata": {},
   "outputs": [],
   "source": [
    "logging.info(\"this is my info for module log\")\n",
    "logging.warning(\"this is my warniing log \")\n",
    "logging.debug(\"this is my debug log \")\n",
    "logging.error(\"this is my error log\")"
   ]
  },
  {
   "cell_type": "code",
   "execution_count": 26,
   "id": "bd1dbe02",
   "metadata": {},
   "outputs": [],
   "source": [
    "class list_parsing:\n",
    "    def __init__(self,l):\n",
    "        self.l=l\n",
    "    def list_ind(self):  \n",
    "        logging.info(\"list index function\")\n",
    "        m=[]\n",
    "        try:\n",
    "            for i in len(range(self.l)):\n",
    "                return [m.append(i)]\n",
    "        except :\n",
    "            logging.error(\"not list\")\n",
    "    \n",
    "    def list_reverse(self):\n",
    "            logging.info(\"list reversal\")\n",
    "            try:\n",
    "                if type(self.l)==list:\n",
    "                    return (self.l[::-1])\n",
    "            except:\n",
    "                logging.error(\"not list\")\n",
    "    \n",
    "        \n",
    "    \n",
    "        "
   ]
  },
  {
   "cell_type": "code",
   "execution_count": 27,
   "id": "04adcc70",
   "metadata": {},
   "outputs": [],
   "source": [
    "k=list_parsing([1,2,3,4,5])"
   ]
  },
  {
   "cell_type": "code",
   "execution_count": 28,
   "id": "8fe684b2",
   "metadata": {},
   "outputs": [],
   "source": [
    "k.list_ind()"
   ]
  },
  {
   "cell_type": "code",
   "execution_count": 25,
   "id": "ea53db23",
   "metadata": {},
   "outputs": [
    {
     "data": {
      "text/plain": [
       "[5, 4, 3, 2, 1]"
      ]
     },
     "execution_count": 25,
     "metadata": {},
     "output_type": "execute_result"
    }
   ],
   "source": [
    "k.list_reverse()"
   ]
  },
  {
   "cell_type": "code",
   "execution_count": 29,
   "id": "164ff68c",
   "metadata": {},
   "outputs": [],
   "source": [
    "p=list_parsing((1,2,3,4))"
   ]
  },
  {
   "cell_type": "code",
   "execution_count": 30,
   "id": "ee185e3e",
   "metadata": {},
   "outputs": [],
   "source": [
    "p.list_ind()"
   ]
  },
  {
   "cell_type": "code",
   "execution_count": 31,
   "id": "aab22c20",
   "metadata": {},
   "outputs": [],
   "source": [
    "p.list_reverse()"
   ]
  },
  {
   "cell_type": "code",
   "execution_count": null,
   "id": "d3856333",
   "metadata": {},
   "outputs": [],
   "source": []
  }
 ],
 "metadata": {
  "kernelspec": {
   "display_name": "Python 3 (ipykernel)",
   "language": "python",
   "name": "python3"
  },
  "language_info": {
   "codemirror_mode": {
    "name": "ipython",
    "version": 3
   },
   "file_extension": ".py",
   "mimetype": "text/x-python",
   "name": "python",
   "nbconvert_exporter": "python",
   "pygments_lexer": "ipython3",
   "version": "3.9.7"
  }
 },
 "nbformat": 4,
 "nbformat_minor": 5
}
