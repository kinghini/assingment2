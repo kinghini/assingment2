{
 "cells": [
  {
   "cell_type": "code",
   "execution_count": 1,
   "id": "c5c842f7",
   "metadata": {},
   "outputs": [],
   "source": [
    "import logging\n",
    "logging.basicConfig(filename = \"test13.log\" , level = logging.DEBUG , format ='%(asctime)s %(levelname)s %(message)s' )"
   ]
  },
  {
   "cell_type": "code",
   "execution_count": 2,
   "id": "35edee69",
   "metadata": {},
   "outputs": [],
   "source": [
    "logging.info(\"this is my info for module log\")\n",
    "logging.warning(\"this is my warniing log \")\n",
    "logging.debug(\"this is my debug log \")\n",
    "logging.error(\"this is my error log\")"
   ]
  },
  {
   "cell_type": "code",
   "execution_count": 16,
   "id": "1feb80a2",
   "metadata": {},
   "outputs": [],
   "source": [
    "class set_parsing:\n",
    "    def __init__(self,s):\n",
    "        self.s=s\n",
    "    def set_add(self):\n",
    "        logging.info(\"addtn of set element\")\n",
    "        try: \n",
    "            if type(self.s)==set:\n",
    "                self.s.add(input())\n",
    "            return(self.s)\n",
    "        except :\n",
    "            logging.error(\"not set\")\n",
    "                    \n",
    "    def set_remove(self):\n",
    "        logging.info(\"removal all element of set\")\n",
    "        try: \n",
    "            if type(self.s)==set:\n",
    "                    self.s.clear()\n",
    "            return self.s\n",
    "        except :\n",
    "            logging.error(\"not set\")\n",
    "                    "
   ]
  },
  {
   "cell_type": "code",
   "execution_count": 17,
   "id": "d0db9bda",
   "metadata": {},
   "outputs": [],
   "source": [
    "s=set_parsing({2,5,6,7})"
   ]
  },
  {
   "cell_type": "code",
   "execution_count": 14,
   "id": "af32d14f",
   "metadata": {},
   "outputs": [
    {
     "data": {
      "text/plain": [
       "set()"
      ]
     },
     "execution_count": 14,
     "metadata": {},
     "output_type": "execute_result"
    }
   ],
   "source": [
    "s.set_remove()"
   ]
  },
  {
   "cell_type": "code",
   "execution_count": 19,
   "id": "b9539f6d",
   "metadata": {},
   "outputs": [
    {
     "name": "stdout",
     "output_type": "stream",
     "text": [
      "immi\n"
     ]
    },
    {
     "data": {
      "text/plain": [
       "{2, 5, 6, 7, '8', 'immi'}"
      ]
     },
     "execution_count": 19,
     "metadata": {},
     "output_type": "execute_result"
    }
   ],
   "source": [
    "s.set_add()"
   ]
  },
  {
   "cell_type": "code",
   "execution_count": null,
   "id": "55fa0000",
   "metadata": {},
   "outputs": [],
   "source": []
  }
 ],
 "metadata": {
  "kernelspec": {
   "display_name": "Python 3 (ipykernel)",
   "language": "python",
   "name": "python3"
  },
  "language_info": {
   "codemirror_mode": {
    "name": "ipython",
    "version": 3
   },
   "file_extension": ".py",
   "mimetype": "text/x-python",
   "name": "python",
   "nbconvert_exporter": "python",
   "pygments_lexer": "ipython3",
   "version": "3.9.7"
  }
 },
 "nbformat": 4,
 "nbformat_minor": 5
}
