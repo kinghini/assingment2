{
 "cells": [
  {
   "cell_type": "code",
   "execution_count": 1,
   "id": "87fcf85d",
   "metadata": {},
   "outputs": [],
   "source": [
    "import logging\n",
    "logging.basicConfig(filename = \"test12.log\" , level = logging.DEBUG , format ='%(asctime)s %(levelname)s %(message)s' )\n"
   ]
  },
  {
   "cell_type": "code",
   "execution_count": 2,
   "id": "c54b5212",
   "metadata": {},
   "outputs": [],
   "source": [
    "logging.info(\"this is my info for module log\")\n",
    "logging.warning(\"this is my warniing log \")\n",
    "logging.debug(\"this is my debug log \")\n",
    "logging.error(\"this is my error log\")"
   ]
  },
  {
   "cell_type": "code",
   "execution_count": 31,
   "id": "5409f310",
   "metadata": {},
   "outputs": [],
   "source": [
    "class tuple_parsing:\n",
    "    def __init__(self,t):\n",
    "        self.t=t\n",
    "    def tupl_len(self):\n",
    "        logging.info(\"tuple len\")\n",
    "        try: \n",
    "            if type(self.t)==tuple:\n",
    "                return(len(self.t))\n",
    "        except :\n",
    "            logging.error(\"not tuple\")\n",
    "            \n",
    "    def tupl_max(self):\n",
    "        logging.info(\"tuple max\")\n",
    "        try: \n",
    "            if type(self.t)==tuple:\n",
    "                return(max(self.t))\n",
    "        except :\n",
    "                logging.error(\"not tuple\")\n",
    "    def tupl_min(self):\n",
    "        logging.info(\"tuple min\")\n",
    "        try: \n",
    "            if type(self.t)==tuple:\n",
    "                return(min(self.t))\n",
    "        except :\n",
    "                logging.error(\"not tuple\")\n",
    "    def tupl_listcov(self):\n",
    "        logging.info(\"tuple conversion\")\n",
    "        try: \n",
    "            if type(self.t)==tuple:\n",
    "                   y=list(self.t)\n",
    "            return y\n",
    "        except :\n",
    "                logging.error(\"not tuple\")\n",
    "                \n",
    "    "
   ]
  },
  {
   "cell_type": "code",
   "execution_count": 34,
   "id": "6572364b",
   "metadata": {},
   "outputs": [],
   "source": [
    "j=tuple_parsing((1,2,3,4,5))"
   ]
  },
  {
   "cell_type": "code",
   "execution_count": 7,
   "id": "fbe19d34",
   "metadata": {},
   "outputs": [
    {
     "data": {
      "text/plain": [
       "5"
      ]
     },
     "execution_count": 7,
     "metadata": {},
     "output_type": "execute_result"
    }
   ],
   "source": [
    "j.tupl_len()"
   ]
  },
  {
   "cell_type": "code",
   "execution_count": 8,
   "id": "3f3bf130",
   "metadata": {},
   "outputs": [
    {
     "data": {
      "text/plain": [
       "5"
      ]
     },
     "execution_count": 8,
     "metadata": {},
     "output_type": "execute_result"
    }
   ],
   "source": [
    "j.tupl_max()"
   ]
  },
  {
   "cell_type": "code",
   "execution_count": 15,
   "id": "8dd66846",
   "metadata": {},
   "outputs": [
    {
     "data": {
      "text/plain": [
       "1"
      ]
     },
     "execution_count": 15,
     "metadata": {},
     "output_type": "execute_result"
    }
   ],
   "source": [
    "j.tupl_min()"
   ]
  },
  {
   "cell_type": "code",
   "execution_count": 35,
   "id": "67e81e5a",
   "metadata": {},
   "outputs": [
    {
     "data": {
      "text/plain": [
       "[1, 2, 3, 4, 5]"
      ]
     },
     "execution_count": 35,
     "metadata": {},
     "output_type": "execute_result"
    }
   ],
   "source": [
    "j.tupl_listcov()"
   ]
  },
  {
   "cell_type": "code",
   "execution_count": 22,
   "id": "5c6ea505",
   "metadata": {},
   "outputs": [],
   "source": [
    "k=(3,6,7,8)"
   ]
  },
  {
   "cell_type": "code",
   "execution_count": null,
   "id": "4be71f94",
   "metadata": {},
   "outputs": [],
   "source": []
  }
 ],
 "metadata": {
  "kernelspec": {
   "display_name": "Python 3 (ipykernel)",
   "language": "python",
   "name": "python3"
  },
  "language_info": {
   "codemirror_mode": {
    "name": "ipython",
    "version": 3
   },
   "file_extension": ".py",
   "mimetype": "text/x-python",
   "name": "python",
   "nbconvert_exporter": "python",
   "pygments_lexer": "ipython3",
   "version": "3.9.7"
  }
 },
 "nbformat": 4,
 "nbformat_minor": 5
}
