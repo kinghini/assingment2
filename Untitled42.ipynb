{
 "cells": [
  {
   "cell_type": "code",
   "execution_count": 3,
   "id": "62492169",
   "metadata": {},
   "outputs": [],
   "source": [
    "import logging\n",
    "logging.basicConfig(filename = \"test11.log\" , level = logging.DEBUG , format ='%(asctime)s %(levelname)s %(message)s' )"
   ]
  },
  {
   "cell_type": "code",
   "execution_count": 4,
   "id": "a3f3909d",
   "metadata": {},
   "outputs": [],
   "source": [
    "logging.info(\"this is my info for module log\")\n",
    "logging.warning(\"this is my warniing log \")\n",
    "logging.debug(\"this is my debug log \")\n",
    "logging.error(\"this is my error log\")"
   ]
  },
  {
   "cell_type": "code",
   "execution_count": 21,
   "id": "c72a5a3f",
   "metadata": {},
   "outputs": [],
   "source": [
    " class dic_parsing:\n",
    "    def __init__(self,d):\n",
    "        self.d=d\n",
    "    def dic_keys(self):\n",
    "        logging.info(\"dict key function\")\n",
    "        try:\n",
    "                if type(self.d)==dict:\n",
    "                    return(self.d.keys())\n",
    "        except :\n",
    "            logging.error(\"not dictionary\")\n",
    "    \n",
    "    \n",
    "    def dic_value(self):\n",
    "        logging.info(\"dictinary value\")\n",
    "        try:\n",
    "                if type(self.d)==dict:\n",
    "                    return(self.d.values())\n",
    "        except :\n",
    "            logging.error(\"not list\")       \n",
    "    def dic_keysvalue(self):\n",
    "        logging.info(\"dictinary key value\")\n",
    "        try:\n",
    "                if type(self.d)==dict:\n",
    "                    return(self.d.items())\n",
    "        except :\n",
    "            logging.error(\"not list\")       \n",
    "    "
   ]
  },
  {
   "cell_type": "code",
   "execution_count": 22,
   "id": "42000691",
   "metadata": {},
   "outputs": [],
   "source": [
    "k=dic_parsing({\"a\":123,\"b\":[1,3,5,6]})"
   ]
  },
  {
   "cell_type": "code",
   "execution_count": 23,
   "id": "a0bd9c5c",
   "metadata": {},
   "outputs": [
    {
     "data": {
      "text/plain": [
       "dict_keys(['a', 'b'])"
      ]
     },
     "execution_count": 23,
     "metadata": {},
     "output_type": "execute_result"
    }
   ],
   "source": [
    "k.dic_keys()"
   ]
  },
  {
   "cell_type": "code",
   "execution_count": 24,
   "id": "d03f7d8c",
   "metadata": {},
   "outputs": [
    {
     "data": {
      "text/plain": [
       "dict_values([123, [1, 3, 5, 6]])"
      ]
     },
     "execution_count": 24,
     "metadata": {},
     "output_type": "execute_result"
    }
   ],
   "source": [
    "k.dic_value()"
   ]
  },
  {
   "cell_type": "code",
   "execution_count": 27,
   "id": "24e558b9",
   "metadata": {},
   "outputs": [
    {
     "data": {
      "text/plain": [
       "dict_items([('a', 123), ('b', [1, 3, 5, 6])])"
      ]
     },
     "execution_count": 27,
     "metadata": {},
     "output_type": "execute_result"
    }
   ],
   "source": [
    "k.dic_keysvalue()"
   ]
  },
  {
   "cell_type": "code",
   "execution_count": 29,
   "id": "27f486df",
   "metadata": {},
   "outputs": [],
   "source": [
    "l=dic_parsing([6,7,9,6])"
   ]
  },
  {
   "cell_type": "code",
   "execution_count": 31,
   "id": "b2ee89ce",
   "metadata": {},
   "outputs": [],
   "source": [
    "l.dic_keys()"
   ]
  },
  {
   "cell_type": "code",
   "execution_count": null,
   "id": "ad873907",
   "metadata": {},
   "outputs": [],
   "source": []
  }
 ],
 "metadata": {
  "kernelspec": {
   "display_name": "Python 3 (ipykernel)",
   "language": "python",
   "name": "python3"
  },
  "language_info": {
   "codemirror_mode": {
    "name": "ipython",
    "version": 3
   },
   "file_extension": ".py",
   "mimetype": "text/x-python",
   "name": "python",
   "nbconvert_exporter": "python",
   "pygments_lexer": "ipython3",
   "version": "3.9.7"
  }
 },
 "nbformat": 4,
 "nbformat_minor": 5
}
